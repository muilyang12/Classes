{
  "nbformat": 4,
  "nbformat_minor": 0,
  "metadata": {
    "colab": {
      "provenance": []
    },
    "kernelspec": {
      "name": "python3",
      "display_name": "Python 3"
    },
    "language_info": {
      "name": "python"
    }
  },
  "cells": [
    {
      "cell_type": "code",
      "execution_count": 1,
      "metadata": {
        "id": "ls4EZrWfyU02"
      },
      "outputs": [],
      "source": [
        "import os\n",
        "import json\n",
        "import csv\n",
        "from typing import List\n",
        "from datetime import datetime, timedelta\n",
        "\n",
        "class DataMerger:\n",
        "  def organize_and_merge_data(self, directory: str):\n",
        "    file_names = [f for f in os.listdir(directory) if f.endswith('.json')]\n",
        "\n",
        "    sorted_file_names = self.get_sorted_file_names(file_names)\n",
        "\n",
        "    previous_symbol = None\n",
        "    previous_timestamp = None\n",
        "    current_data = []\n",
        "\n",
        "    for symbol, timestamp, file_name in sorted_file_names:\n",
        "      file_path = os.path.join(directory, file_name)\n",
        "      with open(file_path, \"r\", encoding=\"utf-8\") as f:\n",
        "          data = json.load(f)\n",
        "\n",
        "      if previous_symbol is None and previous_timestamp is None:\n",
        "        previous_symbol = symbol\n",
        "        previous_timestamp = timestamp\n",
        "        current_data = data[\"data\"]\n",
        "\n",
        "        continue\n",
        "\n",
        "      time_diff = (timestamp - previous_timestamp).total_seconds() / 60\n",
        "\n",
        "      if time_diff <= 12 and previous_symbol == symbol:\n",
        "        current_data.extend(data[\"data\"])\n",
        "\n",
        "        previous_timestamp = timestamp\n",
        "\n",
        "        continue\n",
        "\n",
        "      # Save the merged data\n",
        "      self.save_merged_data(directory, previous_symbol, previous_timestamp, current_data)\n",
        "\n",
        "      previous_symbol = symbol\n",
        "      previous_timestamp = timestamp\n",
        "      current_data = data[\"data\"]\n",
        "\n",
        "    # Save any remaining merged data\n",
        "    if current_data:\n",
        "      self.save_merged_data(directory, previous_symbol, previous_timestamp, current_data)\n",
        "\n",
        "  def get_sorted_file_names(self, file_names: List[str]):\n",
        "    sorted_file_names = []\n",
        "\n",
        "    for file_name in file_names:\n",
        "      symbol, timestamp = self.extract_data_from_file_name(file_name)\n",
        "\n",
        "      sorted_file_names.append((symbol, timestamp, file_name))\n",
        "\n",
        "    sorted_file_names.sort(key=lambda x: x[1])\n",
        "\n",
        "    return sorted_file_names\n",
        "\n",
        "  def extract_data_from_file_name(self, file_name: str):\n",
        "    symbol, time_str = file_name.split(\"-\", 1)\n",
        "\n",
        "    time_str = time_str.rsplit(\".json\", 1)[0].replace(\"_\", \":\")\n",
        "\n",
        "    return (symbol, datetime.strptime(time_str, \"%Y-%m-%dT%H:%M:%S.%fZ\"))\n",
        "\n",
        "  def save_merged_data(self, directory: str, symbol: str, timestamp, data: List):\n",
        "    output_dir = os.path.join(directory, \"1-merged\")\n",
        "    os.makedirs(output_dir, exist_ok=True)\n",
        "\n",
        "    timestamp_str = timestamp.strftime(\"%Y-%m-%dT%H:%M:%S.%fZ\")\n",
        "    output_filename = f\"{symbol}-{timestamp_str}.csv\"\n",
        "    output_path = os.path.join(output_dir, output_filename)\n",
        "\n",
        "    with open(output_path, \"w\", newline=\"\", encoding=\"utf-8\") as csvfile:\n",
        "      writer = csv.writer(csvfile)\n",
        "      for row in data:\n",
        "          writer.writerow(row)"
      ]
    },
    {
      "cell_type": "code",
      "source": [
        "from google.colab import drive\n",
        "\n",
        "drive.mount(\"/content/drive\", force_remount=True)"
      ],
      "metadata": {
        "colab": {
          "base_uri": "https://localhost:8080/"
        },
        "id": "NwEimH1XAgQb",
        "outputId": "9d397f6b-b4d1-4548-e6fd-4801fe2ad501"
      },
      "execution_count": 2,
      "outputs": [
        {
          "output_type": "stream",
          "name": "stdout",
          "text": [
            "Mounted at /content/drive\n"
          ]
        }
      ]
    },
    {
      "cell_type": "code",
      "source": [
        "BASE_DIRECTORY = \"/content/drive/My Drive\"\n",
        "TARGET = \"\"\n",
        "\n",
        "PATH = os.path.join(BASE_DIRECTORY, TARGET)\n",
        "\n",
        "merger = DataMerger()\n",
        "merger.organize_and_merge_data(PATH)"
      ],
      "metadata": {
        "id": "2JguVejC1GbK"
      },
      "execution_count": 5,
      "outputs": []
    }
  ]
}