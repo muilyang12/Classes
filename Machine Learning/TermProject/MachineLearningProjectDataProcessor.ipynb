{
  "nbformat": 4,
  "nbformat_minor": 0,
  "metadata": {
    "colab": {
      "provenance": []
    },
    "kernelspec": {
      "name": "python3",
      "display_name": "Python 3"
    },
    "language_info": {
      "name": "python"
    }
  },
  "cells": [
    {
      "cell_type": "code",
      "execution_count": 22,
      "metadata": {
        "id": "5nXJKwGqLd3z"
      },
      "outputs": [],
      "source": [
        "# https://chatgpt.com/c/672fd1fa-0a34-8012-bf01-13f9c22d4870?model=o1-preview\n",
        "# https://chatgpt.com/c/673ba83e-09e4-8012-bfa1-5bcef163edc1\n",
        "\n",
        "import os\n",
        "import json\n",
        "import pandas as pd\n",
        "\n",
        "class DataProcessor:\n",
        "  def read_files(self, directory: str):\n",
        "    file_names = [f for f in os.listdir(directory) if f.endswith('.csv')]\n",
        "\n",
        "    file_name = file_names[0]\n",
        "\n",
        "    # for file_name in file_names:\n",
        "    file_path = os.path.join(directory, file_name)\n",
        "    data = pd.read_csv(file_path)\n",
        "\n",
        "  def process(self):\n",
        "    pass"
      ]
    },
    {
      "cell_type": "code",
      "source": [
        "from google.colab import drive\n",
        "\n",
        "drive.mount(\"/content/drive\", force_remount=True)"
      ],
      "metadata": {
        "id": "6wjNRQebMiHa"
      },
      "execution_count": null,
      "outputs": []
    },
    {
      "cell_type": "code",
      "source": [
        "BASE_DIRECTORY = \"/content/drive/My Drive\"\n",
        "TARGET = \"\"\n",
        "\n",
        "PATH = os.path.join(BASE_DIRECTORY, TARGET)\n",
        "\n",
        "process = DataProcessor()\n",
        "process.read_files(PATH)\n",
        "process.process()"
      ],
      "metadata": {
        "id": "CSDrjpH7MjXh"
      },
      "execution_count": 23,
      "outputs": []
    }
  ]
}