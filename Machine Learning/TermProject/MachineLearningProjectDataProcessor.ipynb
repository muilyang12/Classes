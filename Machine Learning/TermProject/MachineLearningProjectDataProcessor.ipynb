{
  "nbformat": 4,
  "nbformat_minor": 0,
  "metadata": {
    "colab": {
      "provenance": []
    },
    "kernelspec": {
      "name": "python3",
      "display_name": "Python 3"
    },
    "language_info": {
      "name": "python"
    }
  },
  "cells": [
    {
      "cell_type": "code",
      "execution_count": 32,
      "metadata": {
        "id": "5nXJKwGqLd3z"
      },
      "outputs": [],
      "source": [
        "import os\n",
        "import pandas as pd\n",
        "import numpy as np\n",
        "\n",
        "class DataProcessor:\n",
        "  SAMPLING_RATE = 10\n",
        "  SHIFT = 3\n",
        "\n",
        "  def process(self, directory: str):\n",
        "    processed_data = []\n",
        "\n",
        "    file_names = [f for f in os.listdir(directory) if f.endswith(\".csv\")]\n",
        "\n",
        "    for index, file_name in enumerate(file_names):\n",
        "      data = self.read_file(directory, file_name)\n",
        "      data = self.downsample_data(data)\n",
        "      data = self.add_future_price_diff(data)\n",
        "\n",
        "      processed_data.append(data)\n",
        "\n",
        "    processed_data = pd.concat(processed_data, ignore_index=True)\n",
        "\n",
        "    self.save_data(directory, processed_data)\n",
        "\n",
        "  def read_file(self, directory: str, file_name: str):\n",
        "    file_path = os.path.join(directory, file_name)\n",
        "    data = pd.read_csv(file_path, header=None)\n",
        "\n",
        "    columns = [str(i) for i in range(1, 21)]\n",
        "    columns.append(\"PRICE\")\n",
        "    data.columns = columns\n",
        "\n",
        "    return data\n",
        "\n",
        "  def downsample_data(self, data: pd.DataFrame):\n",
        "    data = data.copy()\n",
        "\n",
        "    data[\"group\"] = np.arange(len(data)) // self.SAMPLING_RATE\n",
        "    data = data.groupby(\"group\").mean().reset_index(drop=True)\n",
        "\n",
        "    return data\n",
        "\n",
        "  def add_future_price_diff(self, data: pd.DataFrame):\n",
        "    data = data.copy()\n",
        "\n",
        "    data[\"PRICE_DIFF\"] = data[\"PRICE\"].shift(-self.SHIFT) - data[\"PRICE\"]\n",
        "    data = data.dropna(subset=[\"PRICE_DIFF\"]).reset_index(drop=True)\n",
        "\n",
        "    return data\n",
        "\n",
        "  def save_data(self, directory: str, processed_data: pd.DataFrame):\n",
        "    output_directory = os.path.join(directory, \"../2-processed\")\n",
        "    os.makedirs(output_directory, exist_ok=True)\n",
        "\n",
        "    output_file_name = f\"{self.SAMPLING_RATE}sec{self.SHIFT}shift.csv\"\n",
        "    output_file_path = os.path.join(output_directory, output_file_name)\n",
        "    processed_data.to_csv(output_file_path, index=False)"
      ]
    },
    {
      "cell_type": "code",
      "source": [
        "from google.colab import drive\n",
        "\n",
        "drive.mount(\"/content/drive\", force_remount=True)"
      ],
      "metadata": {
        "id": "6wjNRQebMiHa",
        "colab": {
          "base_uri": "https://localhost:8080/"
        },
        "outputId": "b46a4e52-9c9e-4f75-a1cd-472e0b975057"
      },
      "execution_count": 2,
      "outputs": [
        {
          "output_type": "stream",
          "name": "stdout",
          "text": [
            "Mounted at /content/drive\n"
          ]
        }
      ]
    },
    {
      "cell_type": "code",
      "source": [
        "BASE_DIRECTORY = \"/content/drive/My Drive\"\n",
        "TARGET = \"quant/DOGE/1-merged\"\n",
        "\n",
        "PATH = os.path.join(BASE_DIRECTORY, TARGET)\n",
        "\n",
        "process = DataProcessor()\n",
        "process.process(PATH)"
      ],
      "metadata": {
        "id": "CSDrjpH7MjXh"
      },
      "execution_count": 34,
      "outputs": []
    }
  ]
}